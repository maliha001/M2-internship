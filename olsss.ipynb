{
 "cells": [
  {
   "cell_type": "code",
   "execution_count": 94,
   "metadata": {},
   "outputs": [],
   "source": [
    "%matplotlib inline\n",
    "from pathlib import Path\n",
    "import cartopy.crs as ccrs\n",
    "import xarray as xr\n",
    "from netCDF4 import Dataset\n",
    "import matplotlib.pyplot as plt\n",
    "import numpy as np\n",
    "import pandas as pd\n",
    "from scipy import stats\n",
    "from scipy import stats\n",
    "import statsmodels.api as sm\n",
    "import datetime \n",
    "from statsmodels.sandbox.regression.predstd import wls_prediction_std\n",
    "from statsmodels.formula.api import ols\n",
    "from statsmodels.stats.anova import anova_lm\n",
    "import math\n",
    "import statistics"
   ]
  },
  {
   "cell_type": "code",
   "execution_count": 95,
   "metadata": {},
   "outputs": [],
   "source": [
    "file=Path(r\"D:\\Datasets\\XTRACK\\ESACCI-SEALEVEL-L3-SLA-N_INDIAN-MERGED-20200113-JA-053-fv01.1.nc\")\n",
    "ds=xr.open_dataset(file,decode_times=False)"
   ]
  },
  {
   "cell_type": "code",
   "execution_count": 104,
   "metadata": {},
   "outputs": [],
   "source": [
    "def select_point(ds,point):\n",
    "    ''' select a point in a track and return a dict with needed parameters'''\n",
    "    #ref=pd.Timestamp(1950,1,1)\n",
    "    output={}\n",
    "    print(f\"extract point #{point} on track {ds.pass_number}\")\n",
    "    output[\"dist\"]=ds.dist_to_coast_gshhs[point].values/1000.\n",
    "    output['pt']=point\n",
    "    output[\"location\"]=[ds.lon[point].values,ds.lat[point].values]\n",
    "    #time = pd.to_datetime(ds.time[point,:], unit='D', origin=ref)\n",
    "    time = ds.time[point,:]\n",
    "    sla  = ds.sla[point,:]\n",
    "    output[\"ts\"]=pd.DataFrame(index=time,data={ds['sla'].attrs['long_name']:sla})\n",
    "    output[\"valid\"] = (1-(output['ts'].isna().sum().values[0] / len(output['ts'])))*100.\n",
    "    output[\"trend\"] = trend_ols(sla.values,ds.time[point,:].values)\n",
    "    #output['trend_rate']=output[\"trend\"]*1000*365\n",
    "    output['flagged']=sigma_mask(output['ts'])\n",
    "    return output\n",
    "\n",
    "def sigma_mask(df,n=2):\n",
    "    '''''''removing outliers'''\n",
    "    sigma = df.std()\n",
    "    mask = (df >- n*sigma) & (df < n*sigma)\n",
    "    df_masked=df[mask.values]\n",
    "    return df_masked\n",
    "\n",
    "def flagged_trend(ds,point):\n",
    "    \n",
    "    time = ds.time[point,:]\n",
    "    sla  = ds.sla[point,:]\n",
    "    df=pd.DataFrame(index=time,data={ds['sla'].attrs['long_name']:sla})\n",
    "    df_masked=sigma_mask(df,n=2)\n",
    "    slope=trend_ols(df_masked.values,df_masked.index.values)\n",
    "    print ('trend rate is :',(trend_rate),'mm/yr' )\n",
    "\n",
    "\n",
    "def plot_point(ds,point):\n",
    "    '''ploting points without outliers'''\n",
    "    time = ds.time[point,:]\n",
    "    sla  = ds.sla[point,:]\n",
    "    df=pd.DataFrame(index=time,data={ds['sla'].attrs['long_name']:sla})\n",
    "    df_masked=sigma_mask(df,n=2)\n",
    "    ax=df.plot(marker='o',linestyle='',color='red')\n",
    "    df_masked.plot(ax=ax,marker='o',linestyle='',color='black')\n",
    "    return ax\n",
    "\n",
    "def trend_ols(y,x,summary=False):\n",
    "    ''' '''\n",
    "    model=sm.OLS(y,sm.add_constant(x),missing='drop')\n",
    "    results=model.fit()\n",
    "    intercept,slope = results.params\n",
    "    if summary :\n",
    "        print(results.summary())\n",
    "    else :\n",
    "        print(f\"the slope is {slope}\")\n",
    "        #print ('trend rate is :',(trend_rate),'mm/yr' )\n",
    "    return slope\n",
    "\n",
    "def map_selected_point(ds,point,extent=None):\n",
    "    dl=1.\n",
    "    if extent is None :\n",
    "        extent = [ds.lon.min()-dl, ds.lon.max()+dl, ds.lat.min()-dl, ds.lat.max()+dl]\n",
    "    fig=plt.figure(figsize=(5,5))\n",
    "    ax=plt.axes(projection=ccrs.PlateCarree())\n",
    "    ax.set_extent(extent, ccrs.PlateCarree())\n",
    "    ax.coastlines(resolution='10m') \n",
    "    ax.gridlines(draw_labels=True)\n",
    "    ax.scatter(ds.lon.values,ds.lat.values,color='black',marker='.')\n",
    "    ax.scatter(ds.lon[point].values,ds.lat[point].values,color='red',marker='o',zorder=1)\n",
    "    return ax\n"
   ]
  },
  {
   "cell_type": "code",
   "execution_count": 115,
   "metadata": {},
   "outputs": [
    {
     "name": "stdout",
     "output_type": "stream",
     "text": [
      "extract point #8500 on track 053\n",
      "the slope is -2.0309327550999987e-05\n"
     ]
    }
   ],
   "source": [
    "a=select_point(ds,8500)"
   ]
  },
  {
   "cell_type": "code",
   "execution_count": 116,
   "metadata": {},
   "outputs": [
    {
     "name": "stdout",
     "output_type": "stream",
     "text": [
      "the slope is -2.62921614670577e-05\n",
      "trend rate is : -6.2086500000000004 mm/yr\n"
     ]
    }
   ],
   "source": [
    "flagged_trend(ds,8500)"
   ]
  },
  {
   "cell_type": "code",
   "execution_count": 117,
   "metadata": {},
   "outputs": [
    {
     "data": {
      "text/plain": [
       "{'dist': 1.798139959808439,\n",
       " 'pt': 8500,\n",
       " 'location': [array(91.46631, dtype=float32), array(22.356714, dtype=float32)],\n",
       " 'ts':               X-TRACK/ALES Sea Level Anomalies\n",
       " time                                          \n",
       " 19009.270675                         -0.915315\n",
       " 19019.186313                         -0.643113\n",
       " 19029.101944                         -0.584233\n",
       " 19039.017589                               NaN\n",
       " 19048.933227                               NaN\n",
       " ...                                        ...\n",
       " 24938.827292                         -0.617987\n",
       " 24948.742942                               NaN\n",
       " 24958.658590                               NaN\n",
       " 24968.574236                               NaN\n",
       " 24978.489882                         -0.068355\n",
       " \n",
       " [603 rows x 1 columns],\n",
       " 'valid': 25.53897180762852,\n",
       " 'trend': -2.0309327550999987e-05,\n",
       " 'flagged':               X-TRACK/ALES Sea Level Anomalies\n",
       " time                                          \n",
       " 19019.186313                         -0.643113\n",
       " 19029.101944                         -0.584233\n",
       " 19088.595824                         -0.507109\n",
       " 19108.427098                         -0.843933\n",
       " 19118.342730                         -0.323873\n",
       " ...                                        ...\n",
       " 24879.333458                         -0.429141\n",
       " 24918.996013                          0.135830\n",
       " 24928.911643                         -0.172915\n",
       " 24938.827292                         -0.617987\n",
       " 24978.489882                         -0.068355\n",
       " \n",
       " [147 rows x 1 columns]}"
      ]
     },
     "execution_count": 117,
     "metadata": {},
     "output_type": "execute_result"
    }
   ],
   "source": [
    "a"
   ]
  },
  {
   "cell_type": "code",
   "execution_count": 80,
   "metadata": {
    "scrolled": true
   },
   "outputs": [
    {
     "data": {
      "text/html": [
       "<div>\n",
       "<style scoped>\n",
       "    .dataframe tbody tr th:only-of-type {\n",
       "        vertical-align: middle;\n",
       "    }\n",
       "\n",
       "    .dataframe tbody tr th {\n",
       "        vertical-align: top;\n",
       "    }\n",
       "\n",
       "    .dataframe thead th {\n",
       "        text-align: right;\n",
       "    }\n",
       "</style>\n",
       "<table border=\"1\" class=\"dataframe\">\n",
       "  <thead>\n",
       "    <tr style=\"text-align: right;\">\n",
       "      <th></th>\n",
       "      <th>X-TRACK/ALES Sea Level Anomalies</th>\n",
       "    </tr>\n",
       "    <tr>\n",
       "      <th>time</th>\n",
       "      <th></th>\n",
       "    </tr>\n",
       "  </thead>\n",
       "  <tbody>\n",
       "    <tr>\n",
       "      <th>19009.270676</th>\n",
       "      <td>-0.778821</td>\n",
       "    </tr>\n",
       "    <tr>\n",
       "      <th>19019.186314</th>\n",
       "      <td>-0.745276</td>\n",
       "    </tr>\n",
       "    <tr>\n",
       "      <th>19029.101945</th>\n",
       "      <td>-0.601361</td>\n",
       "    </tr>\n",
       "    <tr>\n",
       "      <th>19088.595825</th>\n",
       "      <td>-0.494144</td>\n",
       "    </tr>\n",
       "    <tr>\n",
       "      <th>19108.427099</th>\n",
       "      <td>-0.725349</td>\n",
       "    </tr>\n",
       "    <tr>\n",
       "      <th>...</th>\n",
       "      <td>...</td>\n",
       "    </tr>\n",
       "    <tr>\n",
       "      <th>24869.417814</th>\n",
       "      <td>-0.201313</td>\n",
       "    </tr>\n",
       "    <tr>\n",
       "      <th>24918.996014</th>\n",
       "      <td>0.148319</td>\n",
       "    </tr>\n",
       "    <tr>\n",
       "      <th>24928.911645</th>\n",
       "      <td>-0.264411</td>\n",
       "    </tr>\n",
       "    <tr>\n",
       "      <th>24938.827293</th>\n",
       "      <td>-0.601946</td>\n",
       "    </tr>\n",
       "    <tr>\n",
       "      <th>24978.489883</th>\n",
       "      <td>0.074306</td>\n",
       "    </tr>\n",
       "  </tbody>\n",
       "</table>\n",
       "<p>151 rows × 1 columns</p>\n",
       "</div>"
      ],
      "text/plain": [
       "              X-TRACK/ALES Sea Level Anomalies\n",
       "time                                          \n",
       "19009.270676                         -0.778821\n",
       "19019.186314                         -0.745276\n",
       "19029.101945                         -0.601361\n",
       "19088.595825                         -0.494144\n",
       "19108.427099                         -0.725349\n",
       "...                                        ...\n",
       "24869.417814                         -0.201313\n",
       "24918.996014                          0.148319\n",
       "24928.911645                         -0.264411\n",
       "24938.827293                         -0.601946\n",
       "24978.489883                          0.074306\n",
       "\n",
       "[151 rows x 1 columns]"
      ]
     },
     "execution_count": 80,
     "metadata": {},
     "output_type": "execute_result"
    }
   ],
   "source": [
    "df_masked=a['flagged']\n",
    "df_masked"
   ]
  },
  {
   "cell_type": "code",
   "execution_count": 68,
   "metadata": {},
   "outputs": [
    {
     "name": "stdout",
     "output_type": "stream",
     "text": [
      "                            OLS Regression Results                            \n",
      "==============================================================================\n",
      "Dep. Variable:                      y   R-squared:                       0.007\n",
      "Model:                            OLS   Adj. R-squared:                 -0.000\n",
      "Method:                 Least Squares   F-statistic:                    0.9937\n",
      "Date:                Wed, 10 Mar 2021   Prob (F-statistic):              0.320\n",
      "Time:                        12:12:03   Log-Likelihood:                -83.990\n",
      "No. Observations:                 151   AIC:                             172.0\n",
      "Df Residuals:                     149   BIC:                             178.0\n",
      "Df Model:                           1                                         \n",
      "Covariance Type:            nonrobust                                         \n",
      "==============================================================================\n",
      "                 coef    std err          t      P>|t|      [0.025      0.975]\n",
      "------------------------------------------------------------------------------\n",
      "const          0.3792      0.374      1.014      0.312      -0.360       1.118\n",
      "x1         -1.701e-05   1.71e-05     -0.997      0.320   -5.07e-05    1.67e-05\n",
      "==============================================================================\n",
      "Omnibus:                       13.646   Durbin-Watson:                   1.361\n",
      "Prob(Omnibus):                  0.001   Jarque-Bera (JB):                4.966\n",
      "Skew:                          -0.091   Prob(JB):                       0.0835\n",
      "Kurtosis:                       2.130   Cond. No.                     2.37e+05\n",
      "==============================================================================\n",
      "\n",
      "Warnings:\n",
      "[1] Standard Errors assume that the covariance matrix of the errors is correctly specified.\n",
      "[2] The condition number is large, 2.37e+05. This might indicate that there are\n",
      "strong multicollinearity or other numerical problems.\n"
     ]
    }
   ],
   "source": [
    "slope=trend_ols(df_masked.values,df_masked.index.values,summary=True)"
   ]
  },
  {
   "cell_type": "code",
   "execution_count": 74,
   "metadata": {},
   "outputs": [
    {
     "name": "stdout",
     "output_type": "stream",
     "text": [
      "the trend rate is : -6.2086500000000004 mm/yr\n"
     ]
    }
   ],
   "source": [
    "trend_rate=(-1.701e-05)*1000*365\n",
    "print ('the trend rate is :',trend_rate,'mm/yr')"
   ]
  },
  {
   "cell_type": "code",
   "execution_count": 76,
   "metadata": {},
   "outputs": [
    {
     "data": {
      "text/plain": [
       "[<matplotlib.lines.Line2D at 0x10fec6300a0>]"
      ]
     },
     "execution_count": 76,
     "metadata": {},
     "output_type": "execute_result"
    },
    {
     "data": {
      "image/png": "[encoded data removed]",
      "text/plain": [
       "<Figure size 432x288 with 1 Axes>"
      ]
     },
     "metadata": {
      "needs_background": "light"
     },
     "output_type": "display_data"
    }
   ],
   "source": [
    "plt.scatter(df_masked.index.values,df_masked.values)\n",
    "y_fit= -1.701e-05*df_masked.index.values+0.3792\n",
    "plt.plot(df_masked.index.values,y_fit,c='red',label='regression trend')"
   ]
  },
  {
   "cell_type": "code",
   "execution_count": 56,
   "metadata": {},
   "outputs": [
    {
     "data": {
      "text/plain": [
       "<matplotlib.axes._subplots.AxesSubplot at 0x10fec7ee7c0>"
      ]
     },
     "execution_count": 56,
     "metadata": {},
     "output_type": "execute_result"
    },
    {
     "data": {
      "image/png": "[encoded data removed]",
      "text/plain": [
       "<Figure size 432x288 with 1 Axes>"
      ]
     },
     "metadata": {
      "needs_background": "light"
     },
     "output_type": "display_data"
    }
   ],
   "source": [
    "plot_point(ds,9)"
   ]
  },
  {
   "cell_type": "code",
   "execution_count": 64,
   "metadata": {},
   "outputs": [
    {
     "data": {
      "text/plain": [
       "<cartopy.mpl.geoaxes.GeoAxesSubplot at 0x10fecd4b340>"
      ]
     },
     "execution_count": 64,
     "metadata": {},
     "output_type": "execute_result"
    },
    {
     "data": {
      "image/png": "[encoded data removed]",
      "text/plain": [
       "<Figure size 360x360 with 1 Axes>"
      ]
     },
     "metadata": {
      "needs_background": "light"
     },
     "output_type": "display_data"
    }
   ],
   "source": [
    "map_selected_point(ds,8502)"
   ]
  },
  {
   "cell_type": "code",
   "execution_count": null,
   "metadata": {},
   "outputs": [],
   "source": []
  }
 ],
 "metadata": {
  "kernelspec": {
   "display_name": "Python 3",
   "language": "python",
   "name": "python3"
  },
  "language_info": {
   "codemirror_mode": {
    "name": "ipython",
    "version": 3
   },
   "file_extension": ".py",
   "mimetype": "text/x-python",
   "name": "python",
   "nbconvert_exporter": "python",
   "pygments_lexer": "ipython3",
   "version": "3.8.3"
  }
 },
 "nbformat": 4,
 "nbformat_minor": 2
}
